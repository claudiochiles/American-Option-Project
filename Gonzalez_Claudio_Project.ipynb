{
 "cells": [
  {
   "cell_type": "markdown",
   "metadata": {},
   "source": [
    "# Numerical Solutions Of American Options With Dividends Using Finite Difference Methods"
   ]
  },
  {
   "cell_type": "markdown",
   "metadata": {},
   "source": [
    "## Recretation of this Method in Python by Claudio Gonzalez"
   ]
  },
  {
   "cell_type": "markdown",
   "metadata": {},
   "source": [
    "### Introduction"
   ]
  },
  {
   "cell_type": "markdown",
   "metadata": {},
   "source": [
    "This paper studies the Black Scholes Model for American Options with dividens using the finited difference methods. The Black Scholes model proposes a valuation of options, which are contracts that allow the holder the right to buy or sell a stock. As we know the difference between American Options and European Options is that American Options can be exercised whenever the owner of the option wants to. In this case by using the finite difference method, we will solve the problem as a free-boundary problem for heat equations and use transformations to rewrite the problem in a linear complementarity form. This is done this way due to the fact that the explicit formula for finite difference method no longer works for American Options, so we need to use a projected Succesive Over-Relaxation (SOR) algorithm and use the explicit, implicit and crank-nicholson method. The purpose of this paper is to study these American Call/Put options with constant dividends and also analyze them with different dividends."
   ]
  },
  {
   "cell_type": "markdown",
   "metadata": {},
   "source": [
    "### Mathematical Details"
   ]
  },
  {
   "cell_type": "markdown",
   "metadata": {},
   "source": [
    "#### Free Boundary Problem"
   ]
  },
  {
   "cell_type": "markdown",
   "metadata": {},
   "source": [
    "An American option value must be greater than or equal to the payoff function $C(S,T)=\\max{(S-E,0)}$ where $C$ denotes the value of a Call option. The condition follows from the assumption of no arbitrage opportunity. In the case of an option with dividend we have that the $C(S,T)\\rightarrow Se^{-d(T-t)}$, where $d$ is the constant dividend rate. Assume $d>0$, and for large values of $S$, the value of the European call option is less than its intrinsic value, namely $C(S,t)<\\max{(S-E,0)}$. \n",
    "If theres early exercising, there is a straightforward arbitrage opportunity. We can purchase the call option and if we immediately exercise the option by paying $E$ (the strike price) to the seller, we earn a risk-free profit $S-E-C$. However, under the efficient market hypothesis, arbitrage opportunity would not last long because a large number of arbitragers would react instantaneously and push up the option value back to the normal level. So when early exercise is permitted, $C(S,t) \\geq \\max{(S-E,0)}$."
   ]
  },
  {
   "cell_type": "markdown",
   "metadata": {},
   "source": [
    "The second constraint deals with the values of $S$ (the stock price) that are optimal from the holder’s point of view to exercise an American option. When holding the option, the option would have the same value as an European option (In this case American) and the Black-Scholes equation would hold for all $S$. When having the option of early exercising, at each time we need to determine not only the option value, but also for each value of $S$, whether or not it should be exercised. This is known as a free boundary problem mentioned above. At time $t$ there is a particular value of $S$ which distinguishes two regions: one suggesting holding the option and the other one saying the holder should exercise it. We call this value $S_f(t)$, the optimal exercise price.\n",
    "Recall the second-order parabolic differential equation used to evaluate European option is given by\n",
    "$$\\sigma^2S^2\\frac{\\partial^2 C(S,t)}{2 \\partial S^2}+(r-d)S\\frac{\\partial C(S,t)}{\\partial S}-rC(S,t)+\\frac{\\partial C(S,t)}{\\partial t}=0$$ where $C(S,t)$ is the value of a call option, $t \\in [0,T]$."
   ]
  },
  {
   "cell_type": "markdown",
   "metadata": {},
   "source": [
    "#### The Obstacle Problem"
   ]
  },
  {
   "cell_type": "markdown",
   "metadata": {},
   "source": [
    "We view the obstacle problem the with $x=+-1$ as, the free boundary is the set of points $P(x = x_p)$ and $Q(x = x_Q)$, the points that define the contact region. Since the contact region concaves down, $u=f$ and $u′′ <0$, while $u>f$ and $u′′=0$ when the string is above the obstacle. We also assume that $$f(\\pm1)<0,f(x)>0 \\text{ for some }-1<x<1,f''<0$$ to ensure there exists only one contact region.\n",
    "We then find $u(x)$ and the points $P,Q$ such that\n",
    "\\begin{align*}\n",
    "u(-1)\n",
    "&=u(1)=0\\\\\n",
    "u''&=0, \\hspace{0.2cm} -1<x<x_p , \\hspace{0.2cm} x_Q<x<1 \\\\\n",
    "u(x_p)&=f(x_p), \\hspace{0.2cm} u'(x_p)=f'(x_p)\\\\\n",
    "u(x_Q)&=f(x_Q), \\hspace{0.2cm} u'(x_Q)=f'(x_Q)\\\\\n",
    "u(x)&=f(x), \\hspace{0.2cm} x_p<x<x_Q\\\\\n",
    "\\end{align*}  "
   ]
  },
  {
   "cell_type": "markdown",
   "metadata": {},
   "source": [
    "We can then write:\n",
    "$$u'' \\cdot (u-f)=0, \\hspace{0.3cm}-u''\\geq 0, \\hspace{0.3cm}(u-f)\\geq 0$$\n",
    "where $u(-1)=u(1)=0$, and $u,u'$ are continuous. "
   ]
  },
  {
   "cell_type": "markdown",
   "metadata": {},
   "source": [
    "#### Linear complementarity form for American option valuation"
   ]
  },
  {
   "cell_type": "markdown",
   "metadata": {},
   "source": [
    "Now we reduce the valuation problem of American call option with dividends to a linear complementarity problem.\n",
    "First, we transform the American call with dividends problem from the original $(S, t)$ variables to $(x, \\tau )$, where $x$ and $\\tau$ refer to the following transformation:\n",
    "\\begin{align*}\n",
    "x\n",
    "&=ln(\\tfrac{S}{E})\\\\\n",
    "\\tau&=\\tfrac{\\sigma^2}{2}(T-t)\\\\\n",
    "v(x,\\tau)&=\\tfrac{C}{E}\\\\\n",
    "v&=e^{\\alpha x + \\beta \\tau}u(x,\\tau)\\\\\n",
    "\\end{align*} \n",
    "for $- \\infty <x < \\infty, \\tau >0$, where $\\alpha=-0.5(k'-1),\\beta=-0.25(k'-1)^2-k, k'=\\tfrac{r-d}{0.5\\sigma^2}$ and $k=\\tfrac{r}{0.5\\sigma^2}$"
   ]
  },
  {
   "cell_type": "markdown",
   "metadata": {},
   "source": [
    "Then we multiply $v(x,\\tau)$ by $E$ (strike price), gives us the value of the option with respect to variables $S$ and $t$. Through this set of transformation, the Black-Scholes equation becomes\n",
    "$$\\frac{\\partial u}{\\partial \\tau}=\\frac{\\partial^2 u}{\\partial x^2}, \\hspace{0.3cm}- \\infty <x<\\infty, \\hspace{0.3cm} \\tau>0$$\n",
    "which is a diffusion equation with initial condition\n",
    "$$u(x,0)=v(x,0)e^{-\\alpha x}=\\max{(e^{0.5(k'+1)x}-e^{0.5(k'-1)x},0)}$$"
   ]
  },
  {
   "cell_type": "markdown",
   "metadata": {},
   "source": [
    "We know that the obstacle problem for American call options with dividends is equivalent to finding $u(x, \\tau )$ and the unknown optimal exercise boundary $x_f(\\tau)$ such that\n",
    "$$\\frac{\\partial u}{\\partial \\tau}=\\frac{\\partial^2 u}{\\partial x^2}$$ for $x\\leq x_f(\\tau)$ and \n",
    "$$u(x,\\tau)=g(x,\\tau)$$ for $x>x_f(\\tau)$ with boundary conditions \n",
    "\\begin{align*}\n",
    "u(x,0)\n",
    "&=g(x,0)\\\\\n",
    "\\lim_{x \\rightarrow \\infty}u(x,\\tau)&=g(x,\\tau)\\\\\n",
    "\\lim_{x \\rightarrow -\\infty}u(x,\\tau)&=0\\\\\n",
    "\\end{align*} \n",
    "where \n",
    "$$g(x,\\tau)=e^{(\\frac{1}{4}(k'-1)^2+k)\\tau}\\max{(e^{\\frac{1}{2}(k'+1)x}-e^{\\frac{1}{2}(k'-1)x},0)}$$\n",
    "We also have:\n",
    "$$u(x,\\tau) \\geq g(x,\\tau).$$"
   ]
  },
  {
   "cell_type": "markdown",
   "metadata": {},
   "source": [
    "Since we will be focusing on numerical solutions using finite difference methods, we will restrict the problem to a finite interval. Therefore, we consider the problem only for $x$ in the interval $[x^−,x^+]$, where $x^−$ is a large negative number and $x^+$ is a large positive number. Having the boundary condition as\"\n",
    "$$u(x^-,\\tau)= 0, \\hspace{0.5cm} u(x^+,\\tau)=g(x^+,\\tau).$$\n",
    "Now, rewriting in a linear complementarity form, we obtain\n",
    "$$(\\frac{\\partial u}{\\partial \\tau}-\\frac{\\partial^2 u}{\\partial x^2})\\cdot(u(x,\\tau)-g(x,\\tau))=0$$\n",
    "with two constraints\n",
    "$$(\\frac{\\partial u}{\\partial \\tau}-\\frac{\\partial^2 u}{\\partial x^2})\\geq0, \\hspace{0.4cm}u(x,\\tau)-g(x,\\tau)\\geq 0,$$\n",
    "with the initial condition $u(x,0)=g(x,0)$ and the boundary conditions\n",
    "\\begin{align*}\n",
    "u(x^-,\\tau)\n",
    "&=g(x^-,\\tau)=0\\\\\n",
    "u(x^+,\\tau)&=g(x^+,\\tau)\\\\\n",
    "\\end{align*} \n",
    "Now to obtain the numerical result of American option value, our approach is to solve\n",
    "$$(\\frac{\\partial u}{\\partial \\tau}-\\frac{\\partial^2 u}{\\partial x^2})=0$$\n",
    "and make sure\n",
    "$$u(x,\\tau)-g(x,\\tau) \\geq 0.$$"
   ]
  },
  {
   "cell_type": "markdown",
   "metadata": {},
   "source": [
    "#### Finite Difference Methods"
   ]
  },
  {
   "cell_type": "markdown",
   "metadata": {},
   "source": [
    "The Finite Difference Method procedure is as follows: We divide the $(x,\\tau )$ plane into a regular finite mesh, and take finite-difference approximations of the linear complementarity form problem. We approximate the terms \n",
    "$\\tfrac{\\partial u}{\\partial \\tau}-\\tfrac{\\partial^2 u}{\\partial x^2}$ by the finite differences on a regular mesh with step sizes $\\partial \\tau$ and $\\partial x$, and we truncate so that $x$ lies between $N^− \\delta x$ and $N^+\\delta x$, where $N^−$ is a large negative number and $N^+$ is a large positive number. We divide the non-dimensional time to expiry of the option, $0.5\\sigma^2 T$ into $M$ equal time-steps so that $\\delta \\tau =\\tfrac{\\sigma^2 T}{2M}$\n",
    "\n",
    "We divide the $x$-axis into equally spaced nodes a distance $\\delta x$ apart, and the $\\tau$-axis into equally spaced nodes a distance $\\delta \\tau$ apart. This divides the $(x, \\tau )$ plane into a mesh, where the mesh points have the form $(n\\delta x,m\\delta τ)$,$N^− \\leq x\\leq N^+, \\hspace{0.3cm} \\text{ and }0<m\\leq M$. \n",
    "We write $u^m_n =u(n\\delta x,m \\delta \\tau)$\n",
    "as the value of $u(x,\\tau)$ at the mesh point $(n\\delta x,m\\delta \\tau)$,and $g_n^m =g(n\\delta x,m\\delta \\tau)$."
   ]
  },
  {
   "cell_type": "markdown",
   "metadata": {},
   "source": [
    "#### Explicit Method"
   ]
  },
  {
   "cell_type": "markdown",
   "metadata": {},
   "source": [
    "Using a forward difference to approximate $\\tfrac{\\partial u}{\\partial \\tau}$, and a second-order central difference for $\\tfrac{\\partial^2 u}{\\partial x^2}$, we can rewrite the diffusion equation as \n",
    "$$\\frac{u_n^{m+1}-u_n^m}{\\delta \\tau}+O(\\delta \\tau)=\\frac{u_{n+1}^m-2u_n^m+u_{n-1}^m}{(\\delta x)^2}+O((\\delta x)^2)$$\n",
    "If we ignore terms of $O(\\delta \\tau)$ and $O((\\delta x)^2)$, we can rearrange the same equation to give the difference equation\n",
    "$$u_n^{m+1}=\\alpha u^m_{n+1}+(1-2\\alpha)u_n^m+\\alpha u^m_{n-1}$$ where $\\alpha=\\tfrac{\\delta \\tau}{(\\delta x)^2}$\n",
    "\n",
    "At time step $m + 1$, we already know the values of $u^m_n$ for all $n$ so we can explicitly calculate $u^{m+1}_n$. After we calculate $u^{m+1}_n$ using the difference equation, we also need the equation to satisfy the constraint $u(x, \\tau ) − g(x, \\tau ) \\geq 0$. The scheme for this explicit method can be expressed as:\n",
    "\\begin{align*}\n",
    "y_n^{m+1}\n",
    "&=\\alpha u^m_{n+1}+(1-2\\alpha)u_n^m+\\alpha u_{n-1}^m\\\\\n",
    "u_n^{m+1}&=\\max{(y_n^{m+1},g_n^{m+1})}\\\\\n",
    "\\end{align*} \n",
    "\n",
    "With this approach, the stability question arises. The difference equation system is stable if $0 < \\alpha \\leq \\tfrac{1}{2}$ and unstable if $\\alpha > \\tfrac{1}{2}$ "
   ]
  },
  {
   "cell_type": "markdown",
   "metadata": {},
   "source": [
    "#### Fully-Implicit Method"
   ]
  },
  {
   "cell_type": "markdown",
   "metadata": {},
   "source": [
    "This method is different from the original Implicit Method. We use the backward-difference approximation for $\\tfrac{\\partial u}{\\partial \\tau}$, and the central difference for $\\tfrac{\\partial^2 u}{\\partial x^2}$. The diffusion equation for American option valuation is:\n",
    "$$\\frac{u_n^{m+1}-u^m_n}{\\delta \\tau}+O(\\delta \\tau)=\\frac{u_{n+1}^{m+1}-2u_n^{m+1}+u^{m+1}_{n-1}}{(\\delta x)^2}+O((\\delta x)^2)$$\n",
    "Dropping the error terms, we obtain\n",
    "$$-\\alpha u_{n-1}^{m+1}+(1+2\\alpha)u_n^{m+1}-\\alpha u_{n+1}^{m+1}=u_n^m$$\n",
    "\n",
    "The linear complementarity problem is then approximated by\n",
    "$$(-\\alpha u_{n-1}^{m+1}+(1+2\\alpha)u_n^{m+1}-\\alpha u_{n+1}^{m+1}-u_n^m)\\cdot (u_n^{m+1}-g_n^{m+1})=0$$ at time-step $m+1$. Now, let\n",
    "\\begin{equation}\n",
    "u^m=\n",
    "\\begin{pmatrix} \n",
    "u^m_{N^-+1} \\\\\n",
    "u^m_{N^-+2} \\\\\n",
    "\\vdots \\\\\n",
    "u^m_{N^+-2} \\\\\n",
    "u^m_{N^+-1} \\\\\n",
    "\\end{pmatrix}\n",
    "\\end{equation}\n",
    "\n",
    "\\begin{equation}\n",
    "g^m=\n",
    "\\begin{pmatrix} \n",
    "g^m_{N^-+1} \\\\\n",
    "g^m_{N^-+2} \\\\\n",
    "\\vdots \\\\\n",
    "g^m_{N^+-2} \\\\\n",
    "g^m_{N^+-1} \\\\\n",
    "\\end{pmatrix}\n",
    "\\end{equation}\n",
    "\n",
    "\\begin{equation}\n",
    "b^m=\n",
    "\\begin{pmatrix} \n",
    "b^m_{N^-+1} \\\\\n",
    "b^m_{N^-+2} \\\\\n",
    "\\vdots \\\\\n",
    "b^m_{N^+-2} \\\\\n",
    "b^m_{N^+-1} \\\\\n",
    "\\end{pmatrix}\n",
    "=\n",
    "\\begin{pmatrix} \n",
    "u^m_{N^-+1} \\\\\n",
    "u^m_{N^-+2} \\\\\n",
    "\\vdots \\\\\n",
    "u^m_{N^+-2} \\\\\n",
    "u^m_{N^+-1} \\\\\n",
    "\\end{pmatrix}\n",
    "+\\alpha\n",
    "\\begin{pmatrix}\n",
    "g^m_{N^-}\\\\\n",
    "0\\\\\n",
    "\\vdots \\\\\n",
    "0\\\\\n",
    "g^m_{N^+}\n",
    "\\end{pmatrix}\n",
    "\\end{equation}\n",
    "and the coefficient matrix\n",
    "\\begin{equation}\n",
    "C=\n",
    "\\begin{pmatrix} \n",
    "(1+2\\alpha) & -\\alpha &0&\\dots&0\\\\\n",
    "-\\alpha & (1+2\\alpha)&-\\alpha&\\ddots&\\vdots\\\\\n",
    "0&-\\alpha & \\ddots & \\ddots&0 \\\\\n",
    "\\vdots & \\ddots & \\ddots & \\ddots & -\\alpha\\\\ \n",
    "0&\\dots&0&-\\alpha&(1+2\\alpha)\\\\\n",
    "\\end{pmatrix}\n",
    "\\end{equation}\n",
    "We want to solve the following constrained matrix problem\n",
    "$$C u^{m+1}=b^{m+1}$$ and check if the $u\\geq g$ constraint is satisfied. \n",
    "\n",
    "Let $A=(a_{i,j})$ be an arbitrary $n \\times n$ complex matrix, and let $$\\Lambda_i \\equiv \\sum_{j=1,j\\neq i} \\mid a_{i,j}\\mid , \\hspace{0.4cm}1\\leq i \\leq n$$ then all the eigenvalues $\\lambda$ of $A$ lie in the union of the disks\n",
    "$$\\mid z-a_{i,j}\\mid \\leq \\Lambda_i, \\hspace{0.4cm}1\\leq i \\leq n$$\n",
    "\n",
    "Then, let $a_{i,j}=1+2\\alpha$. For $i=1$ and $n$, $\\Lambda_i=\\alpha$. Then $z\\geq a_{i,j}-\\Lambda_i=1+\\alpha$ so for $\\alpha \\geq 0, z$ is always positive. For $2\\leq i \\leq n-1, \\Lambda_i=(\\alpha)+(\\alpha)=2\\alpha$. Then $z\\geq a_{i,j}-\\Lambda_i=1$. Thus, for $\\alpha \\geq 0$, all the eigenvalues of C are positive real numbers, suggesting C is invertible and we can rewrite the constrained matrix problem as\n",
    "$$u^{m+1}=C^{-1}b^{m+1}$$\n",
    "We can first form $b^{m+1}$ from $u^m$ and the boundary conditions. Using the known initial condition $u^0$, we can obtain $u^{m+1}$ sequentially using an iterative method such as Projected SOR."
   ]
  },
  {
   "cell_type": "markdown",
   "metadata": {
    "collapsed": true
   },
   "source": [
    "#### Projected SOR Algorithm"
   ]
  },
  {
   "cell_type": "markdown",
   "metadata": {},
   "source": [
    "The SOR method is used to speed up convergence of iterations. The projected SOR algorithm involves five steps. The first step we rewrite $$-\\alpha u_{n-1}^{m+1}+(1+2\\alpha)u_n^{m+1}-\\alpha u_{n+1}^{m+1}=u_n^m$$ from the Fully-implicit method as\n",
    "$$u_n^{m+1}=\\frac{1}{1+2\\alpha}(b_n^{m+1}+\\alpha(u_{n-1}^{m+1}+u_{n+1}^{m+1}))$$ where $N^- + 1 \\leq n \\leq N^+ -1$.\n",
    "\n",
    "Let $u_n^{m,k}$ be the $k$-th iterate for $u_n^m$. Let us denote the initial guess by $u_n^{m,0}$. As $k \\rightarrow \\infty$, we expect $u_n^{m,k} \\rightarrow u_n^m$. We update the values as soon as they are available and add a correction term $u_n^{m,k+1}-u_n^{m,k}$ to the original $u_n^{m,k+1}$. We also incorporate an over-correction parameter $\\omega$, which has optimal values between 1 and 2, and finally, we take the maximum between the estimated $u_n^{m+1,k}$ and the payoff $g_n^{m+1}$. The fully-implicit scheme is thus expressed as \n",
    "$$y_n^{m+1,k+1}= \\tfrac{1}{1+2\\alpha}(b_n^{m+1}-\\alpha(u_{n-1}^{m+1,k+1}+u_{n+1}^{m+1,k}))$$\n",
    "$$u_n^{m+1,k+1}=\\max{(u_n^{m+1,k}+\\omega (y_n^{m+1,k+1}-u_n^{m+1,k}),g_n^{m+1})}$$\n",
    "until the difference between $u_n^{m+1,k+1}$ and $u_n^{m+1,k}$ is small enough to be ignored, we set $u_n^{m+1}=u_n^{m+1,k+1}$."
   ]
  },
  {
   "cell_type": "markdown",
   "metadata": {},
   "source": [
    "#### Crank Nicholson Method"
   ]
  },
  {
   "cell_type": "markdown",
   "metadata": {},
   "source": [
    "One improvement the Crank-Nicolson Method has over the fully-implicit method is that it increases the temporal convergence rate from $O(\\delta \\tau)$ to $O((\\delta \\tau)^2)$. The equation of the scheme is\n",
    "$$u_n^{m+1}-0.5\\alpha (u_{n-1}^{m+1}-2u_n^{m+1}+u_{n+1}^{m+1})=u_n^m+0.5 \\alpha(u_{n-1}^m-2u_n^m+u_{n+1}^m)$$ where $\\alpha = \\tfrac{\\delta \\tau}{(\\delta x)^2}$\n",
    "\n",
    "Let $Z_n^m=(1-\\alpha)u_n^m+0.5 \\alpha(u_{n+1}^m+u_{n-1}^m)$, then \n",
    "\n",
    "$$(1+\\alpha)u_n^{m+1}-0.5\\alpha(u_{n+1}^{m+1}+u_{n-1}^{m+1})=Z_n^m$$\n",
    "\n",
    "Define a new $b$ matrix by \n",
    "\\begin{equation}\n",
    "b^m=\n",
    "\\begin{pmatrix} \n",
    "b^m_{N^-+1} \\\\\n",
    "b^m_{N^-+2} \\\\\n",
    "\\vdots \\\\\n",
    "b^m_{N^+-2} \\\\\n",
    "b^m_{N^+-1} \\\\\n",
    "\\end{pmatrix}\n",
    "=\n",
    "\\begin{pmatrix} \n",
    "Z^m_{N^-+1} \\\\\n",
    "Z^m_{N^-+2} \\\\\n",
    "\\vdots \\\\\n",
    "Z^m_{N^+-2} \\\\\n",
    "Z^m_{N^+-1} \\\\\n",
    "\\end{pmatrix}\n",
    "+0.5\\alpha\n",
    "\\begin{pmatrix}\n",
    "g^{m+1}_{N^-}\\\\\n",
    "0\\\\\n",
    "\\vdots \\\\\n",
    "0\\\\\n",
    "g^{m+1}_{N^+}\n",
    "\\end{pmatrix}\n",
    "\\end{equation}\n",
    "\n",
    "The tri-diagonal symmetric matrix C becomes \n",
    "\\begin{equation}\n",
    "C=\n",
    "\\begin{pmatrix} \n",
    "(1+\\alpha) & -0.5\\alpha &0&\\dots&0\\\\\n",
    "-0.5\\alpha & (1+\\alpha)&-0.5\\alpha&\\ddots&\\vdots\\\\\n",
    "0&-0.5\\alpha & \\ddots & \\ddots&0 \\\\\n",
    "\\vdots & \\ddots & \\ddots & \\ddots & -0.5\\alpha\\\\ \n",
    "0&\\dots&0&-0.5\\alpha&(1+\\alpha)\\\\\n",
    "\\end{pmatrix}\n",
    "\\end{equation}\n",
    "\n",
    "Now, using Gerschgorin theorem we see that the matrix $C$ is invertible. Similar to the fully-implicit method we adopt the projected SOR algoritm and obtain \n",
    "$$y_n^{m+1,k+1}=\\tfrac{1}{1+\\alpha}(b_n^m+0.5\\alpha(u_{n-1}^{m+1,k+1}+u_{n+1}^{m+1,k}))$$\n",
    "\n",
    "$$u_n^{m+1,k+1}=\\max{(u_n^{m+1,k}+\\omega (y_n^{m+1,k+1}-u_n^{m+1,k}),g_n^{m+1})}$$\n",
    "until the difference between $u_n^{m+1,k+1}$ and $u_n^{m+1,k}$ is small enoguh to be ignored, we set $u_n^{m+1}=u_n^{m+1,k+1}$"
   ]
  },
  {
   "cell_type": "markdown",
   "metadata": {},
   "source": [
    "### Python Implementation"
   ]
  },
  {
   "cell_type": "markdown",
   "metadata": {},
   "source": [
    "In order to recreate these 3 methods we used python to recrete the tables. As seen below we decided to uses a class called European Option (the calculations are for the american option but I decided to maintain the name of the class that we used in the homework) that contained the three methods we used. For the explicit method first we defined all the variables and matrices that were going to be used in this method. After that we created a payoff matrix \"g\" which had rows of size 0 to N and columns from 0 to M. We then also inserted the boundary conditions into the payoff matrix. After that we defined our solution_mesh to show the nodes of the payoff matrix, and then follow the mathematical structure by doind another for loop. Finally we interpolated the solution_mesh with the range of X that we chose and X itself, providing us with uresult which finally gave us the explicit value through Black Scholes.\n"
   ]
  },
  {
   "cell_type": "markdown",
   "metadata": {},
   "source": [
    "In terms of the implicit and crank nicholson the approach was different because we had to use the Projected SOR algorithm. So I first calculated the payoff matrices the same way as the explicit method. But after that I had to create a for loop to incorporate the SOR algorithm, where first we defined our xmatrix and had a while loop to follow the condition of union of disks of the fully implicit method. After that we defined our z value which then was used to calculate the final x matrix using a maximum formula. Finally we put x = u for our final u matrix, which then we interpolated and found the value for implicit or crank nicholson."
   ]
  },
  {
   "cell_type": "markdown",
   "metadata": {},
   "source": [
    "After all the calculations were performed, data frames for each table (df_table and df_table2) were created in order to show the specific value of the option for different stock prices and dividend yields. In order to do that various functions were created calling the functions of the class but with different values of stock price and dividend yield. "
   ]
  },
  {
   "cell_type": "markdown",
   "metadata": {},
   "source": [
    "In terms of python functionality the main library used was numpy for things like maximum, log function, euller etc. Other than that basic for loops and while loops were used to calculated the vector and matrices needed like any other programming language."
   ]
  },
  {
   "cell_type": "markdown",
   "metadata": {},
   "source": [
    "The following tables shows our recreation of the results of this methodology"
   ]
  },
  {
   "cell_type": "markdown",
   "metadata": {},
   "source": [
    "#### Table 4.1"
   ]
  },
  {
   "cell_type": "code",
   "execution_count": 5,
   "metadata": {
    "scrolled": true
   },
   "outputs": [
    {
     "data": {
      "text/html": [
       "<div>\n",
       "<style>\n",
       "    .dataframe thead tr:only-child th {\n",
       "        text-align: right;\n",
       "    }\n",
       "\n",
       "    .dataframe thead th {\n",
       "        text-align: left;\n",
       "    }\n",
       "\n",
       "    .dataframe tbody tr th {\n",
       "        vertical-align: top;\n",
       "    }\n",
       "</style>\n",
       "<table border=\"1\" class=\"dataframe\">\n",
       "  <thead>\n",
       "    <tr style=\"text-align: right;\">\n",
       "      <th></th>\n",
       "      <th>Explicit</th>\n",
       "      <th>Implicit</th>\n",
       "      <th>Crank Nicholson</th>\n",
       "    </tr>\n",
       "    <tr>\n",
       "      <th>S</th>\n",
       "      <th></th>\n",
       "      <th></th>\n",
       "      <th></th>\n",
       "    </tr>\n",
       "  </thead>\n",
       "  <tbody>\n",
       "    <tr>\n",
       "      <th>4</th>\n",
       "      <td>0.0472844</td>\n",
       "      <td>0.0232534</td>\n",
       "      <td>0.037945</td>\n",
       "    </tr>\n",
       "    <tr>\n",
       "      <th>6</th>\n",
       "      <td>0.435506</td>\n",
       "      <td>0.319519</td>\n",
       "      <td>0.383974</td>\n",
       "    </tr>\n",
       "    <tr>\n",
       "      <th>8</th>\n",
       "      <td>1.38308</td>\n",
       "      <td>1.17096</td>\n",
       "      <td>1.26476</td>\n",
       "    </tr>\n",
       "    <tr>\n",
       "      <th>11</th>\n",
       "      <td>3.62624</td>\n",
       "      <td>3.32146</td>\n",
       "      <td>3.39759</td>\n",
       "    </tr>\n",
       "    <tr>\n",
       "      <th>12</th>\n",
       "      <td>4.51174</td>\n",
       "      <td>4.18567</td>\n",
       "      <td>4.2473</td>\n",
       "    </tr>\n",
       "    <tr>\n",
       "      <th>15</th>\n",
       "      <td>7.40486</td>\n",
       "      <td>7.03152</td>\n",
       "      <td>7.03611</td>\n",
       "    </tr>\n",
       "  </tbody>\n",
       "</table>\n",
       "</div>"
      ],
      "text/plain": [
       "     Explicit   Implicit Crank Nicholson\n",
       "S                                       \n",
       "4   0.0472844  0.0232534        0.037945\n",
       "6    0.435506   0.319519        0.383974\n",
       "8     1.38308    1.17096         1.26476\n",
       "11    3.62624    3.32146         3.39759\n",
       "12    4.51174    4.18567          4.2473\n",
       "15    7.40486    7.03152         7.03611"
      ]
     },
     "execution_count": 5,
     "metadata": {},
     "output_type": "execute_result"
    }
   ],
   "source": [
    "df_table"
   ]
  },
  {
   "cell_type": "markdown",
   "metadata": {},
   "source": [
    "#### Table 4.2"
   ]
  },
  {
   "cell_type": "code",
   "execution_count": 6,
   "metadata": {},
   "outputs": [
    {
     "data": {
      "text/html": [
       "<div>\n",
       "<style>\n",
       "    .dataframe thead tr:only-child th {\n",
       "        text-align: right;\n",
       "    }\n",
       "\n",
       "    .dataframe thead th {\n",
       "        text-align: left;\n",
       "    }\n",
       "\n",
       "    .dataframe tbody tr th {\n",
       "        vertical-align: top;\n",
       "    }\n",
       "</style>\n",
       "<table border=\"1\" class=\"dataframe\">\n",
       "  <thead>\n",
       "    <tr style=\"text-align: right;\">\n",
       "      <th></th>\n",
       "      <th>d=0.03</th>\n",
       "      <th>d=0.05</th>\n",
       "      <th>d=0.06</th>\n",
       "      <th>d=0.08</th>\n",
       "      <th>d=0.11</th>\n",
       "    </tr>\n",
       "    <tr>\n",
       "      <th>S</th>\n",
       "      <th></th>\n",
       "      <th></th>\n",
       "      <th></th>\n",
       "      <th></th>\n",
       "      <th></th>\n",
       "    </tr>\n",
       "  </thead>\n",
       "  <tbody>\n",
       "    <tr>\n",
       "      <th>4</th>\n",
       "      <td>0.0315291</td>\n",
       "      <td>0.0279409</td>\n",
       "      <td>0.0262852</td>\n",
       "      <td>0.0232534</td>\n",
       "      <td>0.0193398</td>\n",
       "    </tr>\n",
       "    <tr>\n",
       "      <th>6</th>\n",
       "      <td>0.393693</td>\n",
       "      <td>0.362</td>\n",
       "      <td>0.347091</td>\n",
       "      <td>0.319519</td>\n",
       "      <td>0.282843</td>\n",
       "    </tr>\n",
       "    <tr>\n",
       "      <th>8</th>\n",
       "      <td>1.35921</td>\n",
       "      <td>1.27756</td>\n",
       "      <td>1.2397</td>\n",
       "      <td>1.17096</td>\n",
       "      <td>1.08034</td>\n",
       "    </tr>\n",
       "    <tr>\n",
       "      <th>11</th>\n",
       "      <td>3.63564</td>\n",
       "      <td>3.48747</td>\n",
       "      <td>3.42508</td>\n",
       "      <td>3.32146</td>\n",
       "      <td>3.20265</td>\n",
       "    </tr>\n",
       "    <tr>\n",
       "      <th>12</th>\n",
       "      <td>4.51214</td>\n",
       "      <td>4.35041</td>\n",
       "      <td>4.28613</td>\n",
       "      <td>4.18567</td>\n",
       "      <td>4.08522</td>\n",
       "    </tr>\n",
       "  </tbody>\n",
       "</table>\n",
       "</div>"
      ],
      "text/plain": [
       "       d=0.03     d=0.05     d=0.06     d=0.08     d=0.11\n",
       "S                                                        \n",
       "4   0.0315291  0.0279409  0.0262852  0.0232534  0.0193398\n",
       "6    0.393693      0.362   0.347091   0.319519   0.282843\n",
       "8     1.35921    1.27756     1.2397    1.17096    1.08034\n",
       "11    3.63564    3.48747    3.42508    3.32146    3.20265\n",
       "12    4.51214    4.35041    4.28613    4.18567    4.08522"
      ]
     },
     "execution_count": 6,
     "metadata": {},
     "output_type": "execute_result"
    }
   ],
   "source": [
    "df_table2"
   ]
  },
  {
   "cell_type": "markdown",
   "metadata": {},
   "source": [
    "### Conclusion"
   ]
  },
  {
   "cell_type": "markdown",
   "metadata": {},
   "source": [
    "In this project we calculated option pricing using finited difference methods for American Options. We studied how the American Option behaves with differente calculations approaches and how they change as we change the variables (in this case Stock Price and Dividend Yield). This paper performs a solid option value calculation based on the linear complementarity form which has not been performedd many times. Using the advantages of a programming language such as python the computation was done pretty smoothly and the numerical results are satisfactory as well. The difference between the explicit form and implicit/crank-nicholson is that the explicit method suffers limitations due to the number of steps performed in comparison to the implicit/crank-nicholson which adopt the SOR algorithm providing more accurate results. "
   ]
  },
  {
   "cell_type": "markdown",
   "metadata": {},
   "source": [
    "From the tables that contain the numerical results, first of all we notice that in comparison to the actual paper the values are almost the same with very slight differences in the values. This tells us that the recreation of the paper was done properly and the values achieved are pretty accurate as well. In terms of the explicit form in table 4.1 the values are basically the same with the actual paper due to what we explain above about the numer of iterations. In terms of implicit/crank nicholson in table 4.1 and 4.2 theres a small difference in values, due to possible difference in iterations and how matlab and python behave slightly different as well. Although the values are slightly different the conclusion is the same. As the stock price increases so does the value of the option for any of the three methods. In terms of the dividend yield, we can see a negative correlation where as the dividend yield increases, the value of the option decreases as well. Due to all this, the paper overall was recreated almost identical even though we used python instead of matlab, making our numerical results almost the same. Overall the results are satisfactory with what the paper tries to achieve."
   ]
  },
  {
   "cell_type": "markdown",
   "metadata": {},
   "source": [
    "### Appendix"
   ]
  },
  {
   "cell_type": "code",
   "execution_count": 1,
   "metadata": {
    "collapsed": true
   },
   "outputs": [],
   "source": [
    "#!/usr/bin/env python3\n",
    "# -*- coding: utf-8 -*-\n",
    "\"\"\"\n",
    "Created on Thu Apr 12 16:29:46 2018\n",
    "\n",
    "@author: Claudio\n",
    "\"\"\"\n",
    "import numpy as np\n",
    "import pandas as pd\n",
    "from scipy.stats import norm\n",
    "import scipy.sparse\n",
    "np.seterr(divide='ignore', invalid='ignore')\n",
    "import math\n",
    "from numpy.linalg import inv\n",
    "from scipy.linalg import solve\n",
    "from matplotlib.ticker import MultipleLocator, FormatStrFormatter\n",
    "import scipy.sparse\n",
    "import math\n",
    "from scipy.stats.mstats import gmean\n",
    "    \n",
    "\n",
    "class EuropeanOption(object):\n",
    "    def __init__(self,stock_price,strike_price):\n",
    "        self.stock_price = stock_price\n",
    "        self.strike_price= strike_price\n",
    "        self.strike_price_1 = strike_price[0]\n",
    "        self.strike_price_2 = strike_price[1]\n",
    "        self.strike_price_3 = strike_price[2]\n",
    "    \n",
    "    def European_Call_Payoff(self,strike_price):\n",
    "        european_call_payoff = np.maximum(self.stock_price-strike_price,0)\n",
    "        return european_call_payoff\n",
    "        \n",
    "    def European_Put_Payoff(self,strike_price):\n",
    "        european_put_payoff = np.maximum(strike_price-self.stock_price,0)\n",
    "        return european_put_payoff\n",
    "    def Black_Scholes_Explicit_FD_AO(self,t,maturity_date,M,Nminus,Nplus,interest_rate,dividend_yield,volatility,strike_price,stock_max,stock_min ):           \n",
    "        \n",
    "        X = np.log(self.stock_price/strike_price)\n",
    "        k = interest_rate/(0.5*volatility**2)\n",
    "        kd = (interest_rate - dividend_yield)/(0.5*volatility**2)\n",
    "        N = Nplus - Nminus\n",
    "        dt = (0.5*(volatility**2)*maturity_date)/M\n",
    "        Xzero = np.log(stock_min/strike_price)\n",
    "        Xmax = np.log(stock_max/strike_price)\n",
    "        dX = (Xmax-Xzero)/N\n",
    "        alpha = dt/(dX*dX)\n",
    "        solution_mesh = np.zeros((N+1,M+1))\n",
    "        g = np.zeros((N+1,M+1))\n",
    "        Xmesh = np.arange(Xzero,Xmax,dX)\n",
    "        Xmesh2 = np.append(Xmesh,Xmax)\n",
    "        \n",
    "        #payoff matrix\n",
    "        for j in range(0,N+1):\n",
    "            for i in range(1,M+1):\n",
    "                g[j,i] = np.exp((0.25*(kd-1)**2 + k)*((i)*dt))*np.maximum(np.exp(0.5*(kd+1)*(j+Nminus)*dX)-\n",
    "                           np.exp(0.5*(kd-1)*(j+Nminus)*dX),0)\n",
    "            g[j,0] = np.maximum(np.exp(0.5*(kd+1)*(j+Nminus)*dX)-np.exp(0.5*(kd-1)*(j+Nminus)*dX),0)\n",
    "        g[0,:]=0\n",
    "        \n",
    "        #Boundary conditions of the u matrix\n",
    "        solution_mesh[:,0] = g[:,0]\n",
    "        solution_mesh[0,:] = g[0,:]\n",
    "        solution_mesh[N,:] = g[N,:]\n",
    "        \n",
    "        a = alpha\n",
    "        b = 1 - 2*alpha\n",
    "        c = alpha\n",
    "        \n",
    "        y = np.zeros((N+1,M+1))\n",
    "        \n",
    "        for p in range(0,M):\n",
    "            y[1:N,p+1] = b*solution_mesh[1:N,p]+a*solution_mesh[2:N+1,p]+c*solution_mesh[0:N-1,p]\n",
    "            solution_mesh[1:N,p+1] = np.maximum(y[1:N,p+1],g[1:N,p+1])\n",
    "        \n",
    "        uresult = np.interp(X,Xmesh2,solution_mesh[:,M])\n",
    "        \n",
    "        explicit_value = strike_price*strike_price**(0.5*(kd-1))*self.stock_price**(-0.5*(kd-1))*np.exp((-0.25*(kd-1)**2 - k)*0.5*volatility**2*(maturity_date-t))*uresult         \n",
    "        return explicit_value\n",
    "\n",
    "    def Black_Scholes_Implicit_FD_AO(self,t,maturity_date,M,Nminus,Nplus,interest_rate,dividend_yield,volatility,strike_price,stock_max,stock_min,omega,tol ):\n",
    "        X = np.log(self.stock_price/strike_price)\n",
    "        tau = (0.5*volatility**2)*(maturity_date-t)\n",
    "        k = interest_rate/(0.5*volatility**2)\n",
    "        kd = (interest_rate - dividend_yield)/(0.5*volatility**2)\n",
    "        N = Nplus - Nminus\n",
    "        u = np.zeros((N+1,M+1))\n",
    "        dt = (0.5*(volatility**2)*maturity_date)/M\n",
    "        Xzero = np.log(stock_min/strike_price)\n",
    "        Xmax = np.log(stock_max/strike_price)\n",
    "        dX = (Xmax-Xzero)/N\n",
    "        alpha = dt/(dX*dX)\n",
    "       \n",
    "        g = np.zeros((N+1,M+1))\n",
    "        Xmesh = np.arange(Xzero,Xmax,dX)\n",
    "        Xmesh2=np.linspace(Xzero,Xmax,N+1)\n",
    "        Tmesh = np.arange(0,(0.5*volatility**2*maturity_date),dt)\n",
    "        Tmesh2 = np.append(Tmesh,(0.5*volatility**2*maturity_date))\n",
    "        \n",
    "        #payoff matrix\n",
    "        for j in range(0,N+1):\n",
    "            for i in range(1,M+1):\n",
    "                g[j,i] = np.exp((0.25*(kd-1)**2 + k)*((i-1)*dt))*np.maximum(np.exp(0.5*(kd+1)*(j+Nminus-1)*dX)-\n",
    "                np.exp(0.5*(kd-1)*(j+Nminus-1)*dX),0)\n",
    "            g[j,0] = np.maximum(np.exp(0.5*(kd+1)*(j+Nminus-1)*dX)-np.exp(0.5*(kd-1)*(j+Nminus-1)*dX),0)\n",
    "        g[0,:]=0\n",
    "        \n",
    "        \n",
    "        #Boundary conditions of the u matrix\n",
    "        u[:,0] = g[:,0]\n",
    "        u[0,:] = g[0,:]\n",
    "        u[N,:] = g[N,:]\n",
    "        \n",
    "        a = -alpha\n",
    "        b = 1 + 2*alpha\n",
    "        c = -alpha\n",
    "        z = np.linspace(0,0,N-1)\n",
    "        for p in range(0,M):\n",
    "            x = np.maximum(u[1:N,p],g[1:N,p+1])\n",
    "            temp = np.zeros((N-1,))\n",
    "            temp[0] = a*g[0,p+1]\n",
    "            temp[-1] = c*g[N,p+1]\n",
    "            bt = u[1:N,p]-temp\n",
    "            #b = b_one[0,:]\n",
    "            xold = 1000*x\n",
    "            n = len(x)\n",
    "            while np.linalg.norm(xold-x)>tol:\n",
    "                xold = x\n",
    "                for i in range(0,n):\n",
    "                    if i==0:\n",
    "                        z = (bt[i]+alpha*x[i+1])/(1+2*alpha)\n",
    "                        x[i] = np.maximum(omega*z + (1-omega)*xold[i],g[i,p])\n",
    "                    elif i==n-1:\n",
    "                        z = (bt[i]+alpha*x[i-1])/(1 + 2*alpha)\n",
    "                        x[i] = np.maximum(omega*z + (1-omega)*xold[i],g[i,p])\n",
    "                    else:\n",
    "                        z = (bt[i]+alpha*(x[i-1]+x[i+1]))/(1 + 2*alpha)\n",
    "                        x[i] = np.maximum(omega*z + (1-omega)*xold[i],g[i,p])\n",
    "                u[1:N,p+1] = x\n",
    "              \n",
    "        uresult = np.interp(X,Xmesh2,u[:,M])\n",
    "        implicit_value = strike_price*strike_price**(0.5*(kd-1))*self.stock_price**(-0.5*(kd-1))*np.exp((-0.25*(kd-1)**2 - k)*0.5*volatility**2*(maturity_date-t))*uresult        \n",
    "        return implicit_value\n",
    "        \n",
    "    def Black_Scholes_Crank_Nicholson_FD_AO(self,t,maturity_date,M,Nminus,Nplus,interest_rate,dividend_yield,volatility,strike_price,stock_max,stock_min,omega,tol ):\n",
    "        \n",
    "        X = np.log(self.stock_price/strike_price)\n",
    "        k = interest_rate/(0.5*volatility**2)\n",
    "        kd = (interest_rate - dividend_yield)/(0.5*volatility**2)\n",
    "        N = Nplus - Nminus\n",
    "        u = np.zeros((N+1,M+1))\n",
    "        dt = (0.5*(volatility**2)*maturity_date)/M\n",
    "        Xzero = np.log(stock_min/strike_price)\n",
    "        Xmax = np.log(stock_max/strike_price)\n",
    "        dX = (Xmax-Xzero)/N\n",
    "        alpha = dt/(dX*dX)\n",
    "        g = np.zeros((N+1,M+1))\n",
    "        Xmesh2=np.linspace(Xzero,Xmax,N+1)\n",
    "        Tmesh = np.arange(0,(0.5*volatility**2*maturity_date),dt)\n",
    "        Tmesh2 = np.append(Tmesh,(0.5*volatility**2*maturity_date))\n",
    "        \n",
    "        #payoff matrix\n",
    "        for j in range(0,N+1):\n",
    "            for i in range(1,M+1):\n",
    "                g[j,i] = np.exp((0.25*(kd-1)**2 + k)*((i-1)*dt))*np.maximum(np.exp(0.5*(kd+1)*(j+Nminus-1)*dX)-\n",
    "                np.exp(0.5*(kd-1)*(j+Nminus-1)*dX),0)\n",
    "            g[j,0] = np.maximum(np.exp(0.5*(kd+1)*(j+Nminus-1)*dX)-np.exp(0.5*(kd-1)*(j+Nminus-1)*dX),0)\n",
    "        g[0,:]=0\n",
    "        \n",
    "        #Boundary conditions of the u matrix\n",
    "        u[:,0] = g[:,0]\n",
    "        u[0,:] = g[0,:]\n",
    "        u[N,:] = g[N,:]\n",
    "        \n",
    "        a= -alpha\n",
    "        b = 1 + 2*alpha\n",
    "        c = -alpha\n",
    "        zmatrix = np.zeros((N+1,M+1))\n",
    "        for p in range(0,M):\n",
    "            temp = np.zeros((N-1,))\n",
    "            temp[0] = a*g[0,p+1]\n",
    "            temp[-1] = c*g[N,p+1]\n",
    "            zmatrix[1:N,p] = (1-alpha)*u[1:N,p]+0.5*alpha*(u[2:N+1,p]+u[0:N-1,p])\n",
    "            bt = zmatrix[1:N,p]-temp\n",
    "            x = np.maximum(u[1:N,p],g[1:N,p+1])\n",
    "            #b = b_one[0,:]\n",
    "            xold = 1000*x\n",
    "            n = len(x)\n",
    "            while np.linalg.norm(xold-x)>tol:\n",
    "                xold = x\n",
    "                for i in range(0,n):\n",
    "                    if i==0:\n",
    "                        z = (bt[i]+0.5*alpha*x[i+1])/(1+ alpha)\n",
    "                        x[i] = np.maximum(omega*z + (1-omega)*xold[i],g[i,p])\n",
    "                    elif i==n-1:\n",
    "                        z = (bt[i]+0.5*alpha*x[i-1])/(1 + alpha)\n",
    "                        x[i] = np.maximum(omega*z + (1-omega)*xold[i],g[i,p])\n",
    "                    else:\n",
    "                        z = (bt[i]+0.5*alpha*(x[i-1]+x[i+1]))/(1 + alpha)\n",
    "                        x[i] = np.maximum(omega*z + (1-omega)*xold[i],g[i,p])\n",
    "                u[1:N,p+1] = x\n",
    "              \n",
    "        uresult = np.interp(X,Xmesh2,u[:,M])\n",
    "        crank_value = strike_price*strike_price**(0.5*(kd-1))*self.stock_price**(-0.5*(kd-1))*np.exp((-0.25*(kd-1)**2 - k)*0.5*volatility**2*(maturity_date-t))*uresult        \n",
    "        return crank_value\n",
    "        "
   ]
  },
  {
   "cell_type": "code",
   "execution_count": 2,
   "metadata": {
    "collapsed": true
   },
   "outputs": [],
   "source": [
    "strike_price = [8,8,8]\n",
    "maturity_date = 1\n",
    "stock_price4 = 4\n",
    "stock_price6 = 6\n",
    "stock_price8 = 8\n",
    "stock_price11 = 11\n",
    "stock_price12 = 12\n",
    "stock_price15 = 15\n",
    "stock_max = 150\n",
    "stock_min = 0.4\n",
    "t = 0\n",
    "interest_rate = 0.1\n",
    "dividend_yield = 0.08   \n",
    "volatility = 0.4\n",
    "omega = 1.2\n",
    "tol = 0.001\n",
    "M =200\n",
    "Nplus = 100\n",
    "Nminus = -100\n",
    "##Table 4.1\n",
    "payoff_S4 = EuropeanOption(stock_price4,strike_price)\n",
    "payoff_S6 = EuropeanOption(stock_price6,strike_price)\n",
    "payoff_S8 = EuropeanOption(stock_price8,strike_price)\n",
    "payoff_S11 = EuropeanOption(stock_price11,strike_price)\n",
    "payoff_S12 = EuropeanOption(stock_price12,strike_price)\n",
    "payoff_S15 = EuropeanOption(stock_price15,strike_price)\n",
    "\n",
    "explicit_S4 = payoff_S4.Black_Scholes_Explicit_FD_AO(t,maturity_date,M,Nminus,Nplus,interest_rate,dividend_yield,volatility,strike_price[0],stock_max,stock_min )\n",
    "implicit_S4 = payoff_S4.Black_Scholes_Implicit_FD_AO(t,maturity_date,M,Nminus,Nplus,interest_rate,dividend_yield,volatility,strike_price[0],stock_max,stock_min,omega,tol )\n",
    "crank_S4 = payoff_S4.Black_Scholes_Crank_Nicholson_FD_AO(t,maturity_date,M,Nminus,Nplus,interest_rate,dividend_yield,volatility,strike_price[0],stock_max,stock_min,omega,tol )\n",
    "\n",
    "explicit_S6 = payoff_S6.Black_Scholes_Explicit_FD_AO(t,maturity_date,M,Nminus,Nplus,interest_rate,dividend_yield,volatility,strike_price[0],stock_max,stock_min )\n",
    "implicit_S6 = payoff_S6.Black_Scholes_Implicit_FD_AO(t,maturity_date,M,Nminus,Nplus,interest_rate,dividend_yield,volatility,strike_price[0],stock_max,stock_min,omega,tol )\n",
    "crank_S6 = payoff_S6.Black_Scholes_Crank_Nicholson_FD_AO(t,maturity_date,M,Nminus,Nplus,interest_rate,dividend_yield,volatility,strike_price[0],stock_max,stock_min,omega,tol )\n",
    "\n",
    "explicit_S8 = payoff_S8.Black_Scholes_Explicit_FD_AO(t,maturity_date,M,Nminus,Nplus,interest_rate,dividend_yield,volatility,strike_price[0],stock_max,stock_min )\n",
    "implicit_S8 = payoff_S8.Black_Scholes_Implicit_FD_AO(t,maturity_date,M,Nminus,Nplus,interest_rate,dividend_yield,volatility,strike_price[0],stock_max,stock_min,omega,tol )\n",
    "crank_S8 = payoff_S8.Black_Scholes_Crank_Nicholson_FD_AO(t,maturity_date,M,Nminus,Nplus,interest_rate,dividend_yield,volatility,strike_price[0],stock_max,stock_min,omega,tol )\n",
    "\n",
    "explicit_S11 = payoff_S11.Black_Scholes_Explicit_FD_AO(t,maturity_date,M,Nminus,Nplus,interest_rate,dividend_yield,volatility,strike_price[0],stock_max,stock_min )\n",
    "implicit_S11 = payoff_S11.Black_Scholes_Implicit_FD_AO(t,maturity_date,M,Nminus,Nplus,interest_rate,dividend_yield,volatility,strike_price[0],stock_max,stock_min,omega,tol )\n",
    "crank_S11 = payoff_S11.Black_Scholes_Crank_Nicholson_FD_AO(t,maturity_date,M,Nminus,Nplus,interest_rate,dividend_yield,volatility,strike_price[0],stock_max,stock_min,omega,tol )\n",
    "\n",
    "explicit_S12 = payoff_S12.Black_Scholes_Explicit_FD_AO(t,maturity_date,M,Nminus,Nplus,interest_rate,dividend_yield,volatility,strike_price[0],stock_max,stock_min )\n",
    "implicit_S12 = payoff_S12.Black_Scholes_Implicit_FD_AO(t,maturity_date,M,Nminus,Nplus,interest_rate,dividend_yield,volatility,strike_price[0],stock_max,stock_min,omega,tol )\n",
    "crank_S12 = payoff_S12.Black_Scholes_Crank_Nicholson_FD_AO(t,maturity_date,M,Nminus,Nplus,interest_rate,dividend_yield,volatility,strike_price[0],stock_max,stock_min,omega,tol )\n",
    "\n",
    "explicit_S15 = payoff_S15.Black_Scholes_Explicit_FD_AO(t,maturity_date,M,Nminus,Nplus,interest_rate,dividend_yield,volatility,strike_price[0],stock_max,stock_min )\n",
    "implicit_S15 = payoff_S15.Black_Scholes_Implicit_FD_AO(t,maturity_date,M,Nminus,Nplus,interest_rate,dividend_yield,volatility,strike_price[0],stock_max,stock_min,omega,tol )\n",
    "crank_S15 = payoff_S15.Black_Scholes_Crank_Nicholson_FD_AO(t,maturity_date,M,Nminus,Nplus,interest_rate,dividend_yield,volatility,strike_price[0],stock_max,stock_min,omega,tol )\n",
    "\n",
    "\n",
    "\n",
    "\"Make the dataframe for the Error values\"\n",
    "df_table = pd.DataFrame(columns=['Explicit','Implicit','Crank Nicholson'], index=['4','6','8','11','12','15'])\n",
    "df_table.loc['15'] = pd.Series({'Explicit':explicit_S15, 'Implicit':implicit_S15, 'Crank Nicholson':crank_S15})\n",
    "df_table.loc['12'] = pd.Series({'Explicit':explicit_S12, 'Implicit':implicit_S12, 'Crank Nicholson':crank_S12})\n",
    "df_table.loc['11'] = pd.Series({'Explicit':explicit_S11, 'Implicit':implicit_S11, 'Crank Nicholson':crank_S11})\n",
    "df_table.loc['8'] = pd.Series({'Explicit':explicit_S8, 'Implicit':implicit_S8, 'Crank Nicholson':crank_S8})\n",
    "df_table.loc['6'] = pd.Series({'Explicit':explicit_S6, 'Implicit':implicit_S6, 'Crank Nicholson':crank_S6})\n",
    "df_table.loc['4'] = pd.Series({'Explicit':explicit_S4, 'Implicit':implicit_S4, 'Crank Nicholson':crank_S4})\n",
    "df_table.index.name = 'S'\n"
   ]
  },
  {
   "cell_type": "code",
   "execution_count": 4,
   "metadata": {},
   "outputs": [],
   "source": [
    "dividend_yield3 = 0.03 \n",
    "dividend_yield5 = 0.05 \n",
    "dividend_yield6 = 0.06 \n",
    "dividend_yield8 = 0.08 \n",
    "dividend_yield11 = 0.11 \n",
    "\n",
    "payoff_S4 = EuropeanOption(stock_price4,strike_price)\n",
    "payoff_S6 = EuropeanOption(stock_price6,strike_price)\n",
    "payoff_S8 = EuropeanOption(stock_price8,strike_price)\n",
    "payoff_S11 = EuropeanOption(stock_price11,strike_price)\n",
    "payoff_S12 = EuropeanOption(stock_price12,strike_price)\n",
    "payoff_S15 = EuropeanOption(stock_price15,strike_price)\n",
    "\n",
    "implicit_S4D3 = payoff_S4.Black_Scholes_Implicit_FD_AO(t,maturity_date,M,Nminus,Nplus,interest_rate,dividend_yield3,volatility,strike_price[0],stock_max,stock_min,omega,tol )\n",
    "implicit_S6D3 = payoff_S6.Black_Scholes_Implicit_FD_AO(t,maturity_date,M,Nminus,Nplus,interest_rate,dividend_yield3,volatility,strike_price[0],stock_max,stock_min,omega,tol )\n",
    "implicit_S8D3 = payoff_S8.Black_Scholes_Implicit_FD_AO(t,maturity_date,M,Nminus,Nplus,interest_rate,dividend_yield3,volatility,strike_price[0],stock_max,stock_min,omega,tol )\n",
    "implicit_S11D3 = payoff_S11.Black_Scholes_Implicit_FD_AO(t,maturity_date,M,Nminus,Nplus,interest_rate,dividend_yield3,volatility,strike_price[0],stock_max,stock_min,omega,tol )\n",
    "implicit_S12D3 = payoff_S12.Black_Scholes_Implicit_FD_AO(t,maturity_date,M,Nminus,Nplus,interest_rate,dividend_yield3,volatility,strike_price[0],stock_max,stock_min,omega,tol )\n",
    "implicit_S15D3 = payoff_S15.Black_Scholes_Implicit_FD_AO(t,maturity_date,M,Nminus,Nplus,interest_rate,dividend_yield3,volatility,strike_price[0],stock_max,stock_min,omega,tol )\n",
    "\n",
    "implicit_S4D5 = payoff_S4.Black_Scholes_Implicit_FD_AO(t,maturity_date,M,Nminus,Nplus,interest_rate,dividend_yield5,volatility,strike_price[0],stock_max,stock_min,omega,tol )\n",
    "implicit_S6D5 = payoff_S6.Black_Scholes_Implicit_FD_AO(t,maturity_date,M,Nminus,Nplus,interest_rate,dividend_yield5,volatility,strike_price[0],stock_max,stock_min,omega,tol )\n",
    "implicit_S8D5 = payoff_S8.Black_Scholes_Implicit_FD_AO(t,maturity_date,M,Nminus,Nplus,interest_rate,dividend_yield5,volatility,strike_price[0],stock_max,stock_min,omega,tol )\n",
    "implicit_S11D5 = payoff_S11.Black_Scholes_Implicit_FD_AO(t,maturity_date,M,Nminus,Nplus,interest_rate,dividend_yield5,volatility,strike_price[0],stock_max,stock_min,omega,tol )\n",
    "implicit_S12D5 = payoff_S12.Black_Scholes_Implicit_FD_AO(t,maturity_date,M,Nminus,Nplus,interest_rate,dividend_yield5,volatility,strike_price[0],stock_max,stock_min,omega,tol )\n",
    "implicit_S15D5 = payoff_S15.Black_Scholes_Implicit_FD_AO(t,maturity_date,M,Nminus,Nplus,interest_rate,dividend_yield5,volatility,strike_price[0],stock_max,stock_min,omega,tol )\n",
    "\n",
    "implicit_S4D6 = payoff_S4.Black_Scholes_Implicit_FD_AO(t,maturity_date,M,Nminus,Nplus,interest_rate,dividend_yield6,volatility,strike_price[0],stock_max,stock_min,omega,tol )\n",
    "implicit_S6D6 = payoff_S6.Black_Scholes_Implicit_FD_AO(t,maturity_date,M,Nminus,Nplus,interest_rate,dividend_yield6,volatility,strike_price[0],stock_max,stock_min,omega,tol )\n",
    "implicit_S8D6 = payoff_S8.Black_Scholes_Implicit_FD_AO(t,maturity_date,M,Nminus,Nplus,interest_rate,dividend_yield6,volatility,strike_price[0],stock_max,stock_min,omega,tol )\n",
    "implicit_S11D6 = payoff_S11.Black_Scholes_Implicit_FD_AO(t,maturity_date,M,Nminus,Nplus,interest_rate,dividend_yield6,volatility,strike_price[0],stock_max,stock_min,omega,tol )\n",
    "implicit_S12D6 = payoff_S12.Black_Scholes_Implicit_FD_AO(t,maturity_date,M,Nminus,Nplus,interest_rate,dividend_yield6,volatility,strike_price[0],stock_max,stock_min,omega,tol )\n",
    "implicit_S15D6 = payoff_S15.Black_Scholes_Implicit_FD_AO(t,maturity_date,M,Nminus,Nplus,interest_rate,dividend_yield6,volatility,strike_price[0],stock_max,stock_min,omega,tol )\n",
    "\n",
    "implicit_S4D8 = payoff_S4.Black_Scholes_Implicit_FD_AO(t,maturity_date,M,Nminus,Nplus,interest_rate,dividend_yield8,volatility,strike_price[0],stock_max,stock_min,omega,tol )\n",
    "implicit_S6D8 = payoff_S6.Black_Scholes_Implicit_FD_AO(t,maturity_date,M,Nminus,Nplus,interest_rate,dividend_yield8,volatility,strike_price[0],stock_max,stock_min,omega,tol )\n",
    "implicit_S8D8 = payoff_S8.Black_Scholes_Implicit_FD_AO(t,maturity_date,M,Nminus,Nplus,interest_rate,dividend_yield8,volatility,strike_price[0],stock_max,stock_min,omega,tol )\n",
    "implicit_S11D8 = payoff_S11.Black_Scholes_Implicit_FD_AO(t,maturity_date,M,Nminus,Nplus,interest_rate,dividend_yield8,volatility,strike_price[0],stock_max,stock_min,omega,tol )\n",
    "implicit_S12D8 = payoff_S12.Black_Scholes_Implicit_FD_AO(t,maturity_date,M,Nminus,Nplus,interest_rate,dividend_yield8,volatility,strike_price[0],stock_max,stock_min,omega,tol )\n",
    "implicit_S15D8 = payoff_S15.Black_Scholes_Implicit_FD_AO(t,maturity_date,M,Nminus,Nplus,interest_rate,dividend_yield8,volatility,strike_price[0],stock_max,stock_min,omega,tol )\n",
    "\n",
    "implicit_S4D11 = payoff_S4.Black_Scholes_Implicit_FD_AO(t,maturity_date,M,Nminus,Nplus,interest_rate,dividend_yield11,volatility,strike_price[0],stock_max,stock_min,omega,tol )\n",
    "implicit_S6D11 = payoff_S6.Black_Scholes_Implicit_FD_AO(t,maturity_date,M,Nminus,Nplus,interest_rate,dividend_yield11,volatility,strike_price[0],stock_max,stock_min,omega,tol )\n",
    "implicit_S8D11 = payoff_S8.Black_Scholes_Implicit_FD_AO(t,maturity_date,M,Nminus,Nplus,interest_rate,dividend_yield11,volatility,strike_price[0],stock_max,stock_min,omega,tol )\n",
    "implicit_S11D11 = payoff_S11.Black_Scholes_Implicit_FD_AO(t,maturity_date,M,Nminus,Nplus,interest_rate,dividend_yield11,volatility,strike_price[0],stock_max,stock_min,omega,tol )\n",
    "implicit_S12D11 = payoff_S12.Black_Scholes_Implicit_FD_AO(t,maturity_date,M,Nminus,Nplus,interest_rate,dividend_yield11,volatility,strike_price[0],stock_max,stock_min,omega,tol )\n",
    "implicit_S15D11 = payoff_S15.Black_Scholes_Implicit_FD_AO(t,maturity_date,M,Nminus,Nplus,interest_rate,dividend_yield11,volatility,strike_price[0],stock_max,stock_min,omega,tol )\n",
    "\n",
    "\n",
    "\"Make the dataframe for the Error values\"\n",
    "df_table2 = pd.DataFrame(columns=['d=0.03','d=0.05','d=0.06','d=0.08','d=0.11'], index=['4','6','8','11','12'])\n",
    "#df_table.loc['15'] = pd.Series({'d=0.03':implicit_S15D3, 'd=0.05':implicit_S15D5, 'd=0.06':implicit_S15D6, 'd=0.08':implicit_S15D8, 'd=0.11':implicit_S15D11})\n",
    "df_table2.loc['12'] = pd.Series({'d=0.03':implicit_S12D3, 'd=0.05':implicit_S12D5, 'd=0.06':implicit_S12D6, 'd=0.08':implicit_S12D8, 'd=0.11':implicit_S12D11})\n",
    "df_table2.loc['11'] = pd.Series({'d=0.03':implicit_S11D3, 'd=0.05':implicit_S11D5, 'd=0.06':implicit_S11D6, 'd=0.08':implicit_S11D8, 'd=0.11':implicit_S11D11})\n",
    "df_table2.loc['8'] = pd.Series({'d=0.03':implicit_S8D3, 'd=0.05':implicit_S8D5, 'd=0.06':implicit_S8D6, 'd=0.08':implicit_S8D8, 'd=0.11':implicit_S8D11})\n",
    "df_table2.loc['6'] = pd.Series({'d=0.03':implicit_S6D3, 'd=0.05':implicit_S6D5, 'd=0.06':implicit_S6D6, 'd=0.08':implicit_S6D8, 'd=0.11':implicit_S6D11})\n",
    "df_table2.loc['4'] = pd.Series({'d=0.03':implicit_S4D3, 'd=0.05':implicit_S4D5, 'd=0.06':implicit_S4D6, 'd=0.08':implicit_S4D8, 'd=0.11':implicit_S4D11})\n",
    "df_table2.index.name = 'S'"
   ]
  },
  {
   "cell_type": "markdown",
   "metadata": {},
   "source": [
    "### Bibliography"
   ]
  },
  {
   "cell_type": "markdown",
   "metadata": {},
   "source": [
    "\"Numerical Solutions Of American Options With Dividends Using Finite Difference Methods\" by Nsoki Mavinga"
   ]
  }
 ],
 "metadata": {
  "kernelspec": {
   "display_name": "Python 3",
   "language": "python",
   "name": "python3"
  },
  "language_info": {
   "codemirror_mode": {
    "name": "ipython",
    "version": 3
   },
   "file_extension": ".py",
   "mimetype": "text/x-python",
   "name": "python",
   "nbconvert_exporter": "python",
   "pygments_lexer": "ipython3",
   "version": "3.6.1"
  }
 },
 "nbformat": 4,
 "nbformat_minor": 2
}
